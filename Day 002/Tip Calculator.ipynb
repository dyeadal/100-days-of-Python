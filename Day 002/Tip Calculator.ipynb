{
 "cells": [
  {
   "cell_type": "markdown",
   "id": "035baaec-ae7f-45f8-9b7c-7916369d6b93",
   "metadata": {},
   "source": [
    "Tip Calculator\n",
    "---\n",
    "Day 002 Project\n"
   ]
  },
  {
   "cell_type": "code",
   "execution_count": 18,
   "id": "ca520922-e60c-4f6e-9fb0-df03990e03fd",
   "metadata": {},
   "outputs": [
    {
     "name": "stdout",
     "output_type": "stream",
     "text": [
      "Welcome to the Tip Calculator!\n"
     ]
    }
   ],
   "source": [
    "# Greet user\n",
    "print(\"Welcome to the Tip Calculator!\")"
   ]
  },
  {
   "cell_type": "code",
   "execution_count": 38,
   "id": "aa76ed98-63de-421c-bff4-e537e1cfa795",
   "metadata": {},
   "outputs": [
    {
     "name": "stdin",
     "output_type": "stream",
     "text": [
      "What was the total bill? $ 124.33\n"
     ]
    }
   ],
   "source": [
    "# Ask for the total bill\n",
    "total = float(input(\"What was the total bill? $\"))"
   ]
  },
  {
   "cell_type": "code",
   "execution_count": 22,
   "id": "7c161180-5988-4a35-85d3-c873d4828414",
   "metadata": {},
   "outputs": [
    {
     "name": "stdin",
     "output_type": "stream",
     "text": [
      "How much tip would you like to give? \n",
      "10, 12, 15, or 20? 15\n"
     ]
    }
   ],
   "source": [
    "# Ask for percentage to tip\n",
    "tipPercentage = int(input(\"How much tip would you like to give? \\n10, 12, 15, or 20?\"))"
   ]
  },
  {
   "cell_type": "code",
   "execution_count": 24,
   "id": "0c9c7e10-e774-4c97-afd3-11668644241c",
   "metadata": {},
   "outputs": [
    {
     "name": "stdin",
     "output_type": "stream",
     "text": [
      "How many people are splitting this bill? 4\n"
     ]
    }
   ],
   "source": [
    "# Ask for how many of their party size is splitting the bill\n",
    "splitSize = int(input(\"How many people are splitting this bill?\"))"
   ]
  },
  {
   "cell_type": "code",
   "execution_count": 42,
   "id": "a89db7e0-4627-4e34-9ac3-2a33e6e48b63",
   "metadata": {},
   "outputs": [
    {
     "name": "stdout",
     "output_type": "stream",
     "text": [
      "Each person should pay 35.74\n"
     ]
    }
   ],
   "source": [
    "# Perform calulations\n",
    "eachPay = (total + (total * (tipPercentage/100))) / splitSize\n",
    "\n",
    "# Print results rounded to the second decimal place\n",
    "print(f\"Each person should pay {round(eachPay,2)}\")"
   ]
  },
  {
   "cell_type": "code",
   "execution_count": null,
   "id": "5208a092-56a4-45ef-8afc-a2e234d97ea1",
   "metadata": {},
   "outputs": [],
   "source": []
  }
 ],
 "metadata": {
  "kernelspec": {
   "display_name": "Python [conda env:base] *",
   "language": "python",
   "name": "conda-base-py"
  },
  "language_info": {
   "codemirror_mode": {
    "name": "ipython",
    "version": 3
   },
   "file_extension": ".py",
   "mimetype": "text/x-python",
   "name": "python",
   "nbconvert_exporter": "python",
   "pygments_lexer": "ipython3",
   "version": "3.12.7"
  }
 },
 "nbformat": 4,
 "nbformat_minor": 5
}
