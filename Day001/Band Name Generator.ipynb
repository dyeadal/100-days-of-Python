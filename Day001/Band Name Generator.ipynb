{
 "cells": [
  {
   "cell_type": "markdown",
   "id": "64d1363f-d0c7-40aa-9098-729cc5062d77",
   "metadata": {},
   "source": [
    "Band Name Generator\n",
    "---\n",
    "Day 1's Project "
   ]
  },
  {
   "cell_type": "code",
   "execution_count": 30,
   "id": "e032f9f9-70b3-4f97-814e-f17dd6a3b12e",
   "metadata": {},
   "outputs": [
    {
     "name": "stdout",
     "output_type": "stream",
     "text": [
      "Welcome to the Band Name Generator\n"
     ]
    }
   ],
   "source": [
    "# Greet user\n",
    "print(\"Welcome to the Band Name Generator\")"
   ]
  },
  {
   "cell_type": "code",
   "execution_count": 32,
   "id": "8be4658e-f371-4d98-84f5-4a1737f7034f",
   "metadata": {},
   "outputs": [
    {
     "name": "stdin",
     "output_type": "stream",
     "text": [
      "What's the name of the city you grew up in?\n",
      " Seattle\n"
     ]
    }
   ],
   "source": [
    "# Ask and store the user's city name\n",
    "city = input(\"What's the name of the city you grew up in?\\n\")"
   ]
  },
  {
   "cell_type": "code",
   "execution_count": 34,
   "id": "e495130f-34a5-496a-bdce-8963b1fccd12",
   "metadata": {},
   "outputs": [
    {
     "name": "stdin",
     "output_type": "stream",
     "text": [
      "What's your pet's name?\n",
      " Raven\n"
     ]
    }
   ],
   "source": [
    "# Ask and store the user's pet's name\n",
    "pet = input(\"What's your pet's name?\\n\")"
   ]
  },
  {
   "cell_type": "code",
   "execution_count": 36,
   "id": "2167334f-4ea7-481a-aec4-fcf3dcd2991d",
   "metadata": {},
   "outputs": [
    {
     "name": "stdout",
     "output_type": "stream",
     "text": [
      "Your band name could be Seattle Raven\n"
     ]
    }
   ],
   "source": [
    "# Combine both variables and print out the suggested band name\n",
    "bandname = city + \" \" + pet\n",
    "print(\"Your band name could be \" + bandname)"
   ]
  },
  {
   "cell_type": "code",
   "execution_count": null,
   "id": "13dbb57e-54a5-45a7-aa17-dcf488c6fe46",
   "metadata": {},
   "outputs": [],
   "source": []
  }
 ],
 "metadata": {
  "kernelspec": {
   "display_name": "Python [conda env:base] *",
   "language": "python",
   "name": "conda-base-py"
  },
  "language_info": {
   "codemirror_mode": {
    "name": "ipython",
    "version": 3
   },
   "file_extension": ".py",
   "mimetype": "text/x-python",
   "name": "python",
   "nbconvert_exporter": "python",
   "pygments_lexer": "ipython3",
   "version": "3.12.7"
  }
 },
 "nbformat": 4,
 "nbformat_minor": 5
}
