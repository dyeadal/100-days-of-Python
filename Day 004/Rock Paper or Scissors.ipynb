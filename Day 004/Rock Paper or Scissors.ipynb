{
 "cells": [
  {
   "cell_type": "markdown",
   "id": "fe2cf8d0-fbd2-4bc8-a2f7-216ee6a3c76d",
   "metadata": {},
   "source": [
    "Day 004 Project\n",
    "---\n",
    "Play a game of Rock, Paper, or Scissors by using the Random module to emulate an opponent"
   ]
  },
  {
   "cell_type": "code",
   "execution_count": 123,
   "id": "724367bc-19e4-4a3f-a06e-976b2fff849d",
   "metadata": {},
   "outputs": [],
   "source": [
    "# Import the random module for opponent emulation\n",
    "import random"
   ]
  },
  {
   "cell_type": "code",
   "execution_count": 125,
   "id": "2a30d25c-3701-4b0a-9d5c-a8bfd311a3d1",
   "metadata": {},
   "outputs": [
    {
     "name": "stdin",
     "output_type": "stream",
     "text": [
      "Rock: 1\n",
      "Paper: 2\n",
      "or Scissor: 3\n",
      " > 3\n"
     ]
    }
   ],
   "source": [
    "# User input\n",
    "playerDecision = int(input(\"Rock: 1\\nPaper: 2\\nor Scissor: 3\\n >\"))"
   ]
  },
  {
   "cell_type": "code",
   "execution_count": 127,
   "id": "3d5c5b67-cb42-4a00-b985-dee6d7f271f6",
   "metadata": {},
   "outputs": [],
   "source": [
    "# Exit if invalid user input\n",
    "if playerDecision >= 4 or playerDecision <= 0 :\n",
    "    print(playerDecision)\n",
    "    print(\"INPUT ERROR\\nNOT VALID\")\n",
    "    exit()"
   ]
  },
  {
   "cell_type": "code",
   "execution_count": 129,
   "id": "247604d1-9847-4118-bb6c-21dd3eb7037a",
   "metadata": {},
   "outputs": [],
   "source": [
    "# Computer decides what they want to play\n",
    "cpuDecision = random.randint(1,3)\n",
    "\n",
    "# print(f\"Computer decided: {cpuDecision}\") # Debug"
   ]
  },
  {
   "cell_type": "code",
   "execution_count": 139,
   "id": "f4d4eae3-49f0-4236-8470-c5c6e1452f25",
   "metadata": {},
   "outputs": [],
   "source": [
    "# Multi-string ASCII art \n",
    "# Rock\n",
    "rock = '''\n",
    "    _______\n",
    "---'   ____)\n",
    "      (_____)\n",
    "      (_____)\n",
    "      (____)\n",
    "---.__(___)\n",
    "'''\n",
    "\n",
    "# Paper\n",
    "paper = '''\n",
    "     _______\n",
    "---'    ____)____\n",
    "           ______)\n",
    "          _______)\n",
    "         _______)\n",
    "---.__________)\n",
    "'''\n",
    "\n",
    "# Scissors\n",
    "scissors = '''\n",
    "    _______\n",
    "---'   ____)____\n",
    "          ______)\n",
    "       __________)\n",
    "      (____)\n",
    "---.__(___)\n",
    "'''\n",
    "\n",
    "handsigns = [rock, paper, scissors]"
   ]
  },
  {
   "cell_type": "code",
   "execution_count": 141,
   "id": "c4d2ad32-57ae-4d5f-8de2-2d025fda755c",
   "metadata": {},
   "outputs": [
    {
     "name": "stdout",
     "output_type": "stream",
     "text": [
      "Player chose Scissor\n",
      "\n",
      "    _______\n",
      "---'   ____)____\n",
      "          ______)\n",
      "       __________)\n",
      "      (____)\n",
      "---.__(___)\n",
      "\n",
      "\n",
      "\n",
      "\n",
      "Computer chose Paper\n",
      "\n",
      "     _______\n",
      "---'    ____)____\n",
      "           ______)\n",
      "          _______)\n",
      "         _______)\n",
      "---.__________)\n",
      "\n"
     ]
    }
   ],
   "source": [
    "# Display decisions\n",
    "\n",
    "decision  = [\"Rock\",\"Paper\",\"Scissor\"]\n",
    "\n",
    "print(f\"Player chose {decision[(playerDecision - 1)]}\\n{handsigns[(playerDecision - 1)]}\")\n",
    "print(f\"\\n\\n\\nComputer chose {decision[(cpuDecision - 1)]}\\n{handsigns[(cpuDecision - 1)]}\")"
   ]
  },
  {
   "cell_type": "code",
   "execution_count": 143,
   "id": "fecb84ba-f5e0-4f0d-972c-886da7316ae8",
   "metadata": {},
   "outputs": [
    {
     "name": "stdout",
     "output_type": "stream",
     "text": [
      "You Win!\n"
     ]
    }
   ],
   "source": [
    "# Rock defeats Scissor\n",
    "if playerDecision == 1 and cpuDecision == 3:\n",
    "    print(\"You Win!\")\n",
    "# Scissor defeats Paper\n",
    "elif playerDecision == 3 and cpuDecision == 2:\n",
    "    print(\"You Win!\")\n",
    "# Paper defeats Rock\n",
    "elif playerDecision == 2 and cpuDecision == 1:\n",
    "    print(\"You Win!\")\n",
    "# Draw\n",
    "elif playerDecision == cpuDecision:\n",
    "    print(f\"It is a Draw!!!\")\n",
    "# Winning condition not met, you lose\n",
    "else:\n",
    "    print(\"You Lose!\")\n"
   ]
  },
  {
   "cell_type": "code",
   "execution_count": null,
   "id": "4caf4970-d765-4f6c-b2dc-3e3aeeba5782",
   "metadata": {},
   "outputs": [],
   "source": []
  }
 ],
 "metadata": {
  "kernelspec": {
   "display_name": "Python [conda env:base] *",
   "language": "python",
   "name": "conda-base-py"
  },
  "language_info": {
   "codemirror_mode": {
    "name": "ipython",
    "version": 3
   },
   "file_extension": ".py",
   "mimetype": "text/x-python",
   "name": "python",
   "nbconvert_exporter": "python",
   "pygments_lexer": "ipython3",
   "version": "3.12.7"
  }
 },
 "nbformat": 4,
 "nbformat_minor": 5
}
