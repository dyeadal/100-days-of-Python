{
 "cells": [
  {
   "cell_type": "markdown",
   "id": "d358c280-459c-4354-9715-670672db6d01",
   "metadata": {},
   "source": [
    "## Day 004 Notes\n",
    "---\n",
    "This day we will learn, and practice:\n",
    "- Randomization\n",
    "- Lists"
   ]
  },
  {
   "cell_type": "code",
   "execution_count": 11,
   "id": "a455aab4-4ef3-404e-adbc-08648909dddc",
   "metadata": {},
   "outputs": [
    {
     "data": {
      "text/plain": [
       "3"
      ]
     },
     "execution_count": 11,
     "metadata": {},
     "output_type": "execute_result"
    }
   ],
   "source": [
    "import random\n",
    "\n",
    "# Powered by the Mersenne Twister, psuedorandom number generation\n",
    "\n",
    "random.randint(1, 10)"
   ]
  },
  {
   "cell_type": "code",
   "execution_count": 13,
   "id": "428e6c5c-0f61-4444-a831-24c4e2a8e02e",
   "metadata": {},
   "outputs": [
    {
     "name": "stdout",
     "output_type": "stream",
     "text": [
      "1337.007\n"
     ]
    }
   ],
   "source": [
    "# Calling custom module\n",
    "import custom_module\n",
    "print(custom_module.num)"
   ]
  },
  {
   "cell_type": "code",
   "execution_count": 23,
   "id": "4dd7764a-ec4b-4fb7-92c8-e5661af0911f",
   "metadata": {},
   "outputs": [
    {
     "name": "stdout",
     "output_type": "stream",
     "text": [
      "0.7401765606461522\n"
     ]
    }
   ],
   "source": [
    "randZeroToOne = random.random()\n",
    "print(randZeroToOne)"
   ]
  },
  {
   "cell_type": "code",
   "execution_count": 25,
   "id": "e2980c50-6535-4b63-bbde-42244fea8f5e",
   "metadata": {},
   "outputs": [
    {
     "name": "stdout",
     "output_type": "stream",
     "text": [
      "0.2798855631461239\n"
     ]
    }
   ],
   "source": [
    "randFloat = random.uniform(0,10)\n",
    "print(randFloat)"
   ]
  },
  {
   "cell_type": "code",
   "execution_count": 33,
   "id": "9cc1277e-44c6-41e4-9b62-f805cba50667",
   "metadata": {},
   "outputs": [
    {
     "name": "stdout",
     "output_type": "stream",
     "text": [
      "Heads\n",
      "0.7401765606461522\n"
     ]
    }
   ],
   "source": [
    "# Heads or Tails Coin Toss Challenge\n",
    "\n",
    "# Store random.random() value\n",
    "coinToss = randZeroToOne\n",
    "# print(coinToss) # debug\n",
    "\n",
    "# Compare value, if above \n",
    "if coinToss >= 0.5:\n",
    "    print(\"Heads\")\n",
    "\n",
    "elif coinToss < 0.5:\n",
    "    print(\"Tails\")\n",
    "\n",
    "print(coinToss) # debug\n"
   ]
  },
  {
   "cell_type": "code",
   "execution_count": null,
   "id": "b0bccc66-a2e6-4cde-8d90-6a27e642a550",
   "metadata": {},
   "outputs": [],
   "source": []
  }
 ],
 "metadata": {
  "kernelspec": {
   "display_name": "Python [conda env:base] *",
   "language": "python",
   "name": "conda-base-py"
  },
  "language_info": {
   "codemirror_mode": {
    "name": "ipython",
    "version": 3
   },
   "file_extension": ".py",
   "mimetype": "text/x-python",
   "name": "python",
   "nbconvert_exporter": "python",
   "pygments_lexer": "ipython3",
   "version": "3.12.7"
  }
 },
 "nbformat": 4,
 "nbformat_minor": 5
}
