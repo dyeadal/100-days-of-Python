{
 "cells": [
  {
   "cell_type": "markdown",
   "id": "d358c280-459c-4354-9715-670672db6d01",
   "metadata": {},
   "source": [
    "## Day 004 Notes\n",
    "---\n",
    "This day we will learn, and practice:\n",
    "- Randomization\n",
    "- Lists"
   ]
  },
  {
   "cell_type": "code",
   "execution_count": 3,
   "id": "a455aab4-4ef3-404e-adbc-08648909dddc",
   "metadata": {},
   "outputs": [
    {
     "data": {
      "text/plain": [
       "6"
      ]
     },
     "execution_count": 3,
     "metadata": {},
     "output_type": "execute_result"
    }
   ],
   "source": [
    "import random\n",
    "\n",
    "# Powered by the Mersenne Twister, psuedorandom number generation\n",
    "\n",
    "random.randint(1, 10)"
   ]
  },
  {
   "cell_type": "code",
   "execution_count": 17,
   "id": "428e6c5c-0f61-4444-a831-24c4e2a8e02e",
   "metadata": {},
   "outputs": [
    {
     "name": "stdout",
     "output_type": "stream",
     "text": [
      "1337.007\n"
     ]
    }
   ],
   "source": [
    "# Calling custom module\n",
    "import custom_module\n",
    "print(custom_module.num)"
   ]
  },
  {
   "cell_type": "code",
   "execution_count": 19,
   "id": "4dd7764a-ec4b-4fb7-92c8-e5661af0911f",
   "metadata": {},
   "outputs": [
    {
     "name": "stdout",
     "output_type": "stream",
     "text": [
      "0.9313516654246834\n"
     ]
    }
   ],
   "source": [
    "randZeroToOne = random.random()\n",
    "print(randZeroToOne)"
   ]
  },
  {
   "cell_type": "code",
   "execution_count": 21,
   "id": "e2980c50-6535-4b63-bbde-42244fea8f5e",
   "metadata": {},
   "outputs": [
    {
     "name": "stdout",
     "output_type": "stream",
     "text": [
      "1.167280245113399\n"
     ]
    }
   ],
   "source": [
    "randFloat = random.uniform(0,10)\n",
    "print(randFloat)"
   ]
  },
  {
   "cell_type": "code",
   "execution_count": 35,
   "id": "9cc1277e-44c6-41e4-9b62-f805cba50667",
   "metadata": {},
   "outputs": [
    {
     "name": "stdout",
     "output_type": "stream",
     "text": [
      "Heads\n",
      "0.9313516654246834\n"
     ]
    }
   ],
   "source": [
    "# Heads or Tails Coin Toss Challenge\n",
    "\n",
    "# Store random.random() value\n",
    "coinToss = randZeroToOne\n",
    "# print(coinToss) # debug\n",
    "\n",
    "# Compare value, if above \n",
    "if coinToss >= 0.5:\n",
    "    print(\"Heads\")\n",
    "\n",
    "elif coinToss < 0.5:\n",
    "    print(\"Tails\")\n",
    "\n",
    "print(coinToss) # debug\n"
   ]
  },
  {
   "cell_type": "code",
   "execution_count": 65,
   "id": "b0bccc66-a2e6-4cde-8d90-6a27e642a550",
   "metadata": {},
   "outputs": [
    {
     "name": "stdout",
     "output_type": "stream",
     "text": [
      "['apple', 'banana']\n"
     ]
    }
   ],
   "source": [
    "# Lists\n",
    "\n",
    "# Lists are a type of data structure like a variable, but can hold multiple values\n",
    "fruits = [\"apple\", \"banana\"]\n",
    "print(fruits)"
   ]
  },
  {
   "cell_type": "code",
   "execution_count": 67,
   "id": "ec038a0a-0650-4fcb-abb4-fb658d7902ab",
   "metadata": {},
   "outputs": [
    {
     "name": "stdout",
     "output_type": "stream",
     "text": [
      "\n",
      "[10, 'string', True, 3.14]\n",
      "<class 'int'>\n",
      "<class 'str'>\n",
      "<class 'bool'>\n",
      "<class 'float'>\n",
      ")\n"
     ]
    }
   ],
   "source": [
    "# Can even store different type of variables\n",
    "varList = [10, \"string\", True, 3.14]\n",
    "print(f\"\\n{varList}\")\n",
    "# You can call on specific indexes\n",
    "print(f\"{type(varList[0])}\\n{type(varList[1])}\\n{type(varList[2])}\\n{type(varList[3])}\\n)\")\n"
   ]
  },
  {
   "cell_type": "code",
   "execution_count": 69,
   "id": "1ce11cce-f5ff-408e-ac6a-b2deb2bfaa0b",
   "metadata": {},
   "outputs": [
    {
     "name": "stdout",
     "output_type": "stream",
     "text": [
      "\n",
      "[10, 'Hello', True, 3.14]\n"
     ]
    }
   ],
   "source": [
    "# You can also alter indexes values\n",
    "varList[1] = \"Hello\"\n",
    "print(f\"\\n{varList}\")\n"
   ]
  },
  {
   "cell_type": "code",
   "execution_count": 71,
   "id": "3366ea36-92c1-42c5-8be1-92c38dff5c33",
   "metadata": {},
   "outputs": [
    {
     "name": "stdout",
     "output_type": "stream",
     "text": [
      "\n",
      "[10, 'Hello', True, 3.14, 'Extra Information']\n"
     ]
    }
   ],
   "source": [
    "# You can add data to the end of a string using the append function\n",
    "varList.append(\"Extra Information\")\n",
    "print(f\"\\n{varList}\")\n"
   ]
  },
  {
   "cell_type": "code",
   "execution_count": 108,
   "id": "9859192a-c3c4-4b2b-97aa-f9b0b194ca0e",
   "metadata": {},
   "outputs": [
    {
     "name": "stdout",
     "output_type": "stream",
     "text": [
      "Bob\n"
     ]
    }
   ],
   "source": [
    "# Code Exercise: Choose which friend will pay for the bill\n",
    "friends = [\"Alice\", \"Bob\", \"Charlie\", \"David\", \"Emanuel\"]\n",
    "\n",
    "# Use the random function to choose friend\n",
    "import random\n",
    "choose = random.randint(0,4)\n",
    "# Use the random function to print out the index, printing out the friend chosen\n",
    "print(friends[choose])\n"
   ]
  },
  {
   "cell_type": "code",
   "execution_count": 118,
   "id": "629305e7-c10a-4309-8ce3-4546be3159e9",
   "metadata": {},
   "outputs": [
    {
     "name": "stdout",
     "output_type": "stream",
     "text": [
      "[10, 'Hello', True, 3.14, 'Extra Information']\n",
      "Items in list: 5\n"
     ]
    }
   ],
   "source": [
    "# Display the quantity of values in a list using the len() function\n",
    "print(f\"{varList}\")\n",
    "print(f\"Items in list: {len(varList)}\")\n"
   ]
  },
  {
   "cell_type": "code",
   "execution_count": 120,
   "id": "f132b35c-654a-40e7-9436-3a640138899c",
   "metadata": {},
   "outputs": [
    {
     "ename": "IndexError",
     "evalue": "list index out of range",
     "output_type": "error",
     "traceback": [
      "\u001b[1;31m---------------------------------------------------------------------------\u001b[0m",
      "\u001b[1;31mIndexError\u001b[0m                                Traceback (most recent call last)",
      "Cell \u001b[1;32mIn[120], line 2\u001b[0m\n\u001b[0;32m      1\u001b[0m \u001b[38;5;66;03m# Most common errors programmers face are when calling out of bounds or indexes that do not exist\u001b[39;00m\n\u001b[1;32m----> 2\u001b[0m \u001b[38;5;28mprint\u001b[39m(varList[\u001b[38;5;241m10\u001b[39m])\n",
      "\u001b[1;31mIndexError\u001b[0m: list index out of range"
     ]
    }
   ],
   "source": [
    "# Most common errors programmers face are when calling out of bounds or indexes that do not exist\n",
    "print(varList[10])"
   ]
  },
  {
   "cell_type": "code",
   "execution_count": 126,
   "id": "35a3ae3e-0d94-4c1f-bbdf-22708ea71abf",
   "metadata": {},
   "outputs": [
    {
     "name": "stdout",
     "output_type": "stream",
     "text": [
      "Length of our list: 5\n",
      "Last item: Extra Information\n"
     ]
    }
   ],
   "source": [
    "# To avoid this try using len() funtion to limit your index queries\n",
    "print(f\"Length of our list: {len(varList)}\")\n",
    "\n",
    "# Always subtract 1 since python starts counting at 0\n",
    "print(f\"Last item: {varList[len(varList) - 1]}\")"
   ]
  },
  {
   "cell_type": "code",
   "execution_count": null,
   "id": "ef0c5069-de98-41cd-b4ff-add31fbb7fdb",
   "metadata": {},
   "outputs": [],
   "source": []
  }
 ],
 "metadata": {
  "kernelspec": {
   "display_name": "Python [conda env:base] *",
   "language": "python",
   "name": "conda-base-py"
  },
  "language_info": {
   "codemirror_mode": {
    "name": "ipython",
    "version": 3
   },
   "file_extension": ".py",
   "mimetype": "text/x-python",
   "name": "python",
   "nbconvert_exporter": "python",
   "pygments_lexer": "ipython3",
   "version": "3.12.7"
  }
 },
 "nbformat": 4,
 "nbformat_minor": 5
}
