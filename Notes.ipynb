{
 "cells": [
  {
   "cell_type": "markdown",
   "id": "c0660646-4035-40c7-a885-6b4b393386be",
   "metadata": {},
   "source": [
    "Day 001 - Band Name Generator\n",
    "---\n",
    "\n",
    "Focus of todays learning:\n",
    "- Printing\n",
    "- Inputting\n",
    "- Commenting\n",
    "- Debugging\n",
    "- Name Errors\n",
    "- Syntax Errors\n",
    "- String Manipulation\n",
    "- Variables"
   ]
  },
  {
   "cell_type": "code",
   "execution_count": 2,
   "id": "d7935473-4aaa-472c-8abc-518297c3b2ce",
   "metadata": {},
   "outputs": [
    {
     "name": "stdout",
     "output_type": "stream",
     "text": [
      "Hello World!\n"
     ]
    }
   ],
   "source": [
    "# First single-line comment\n",
    "# Prints a string to the user's console\n",
    "print(\"Hello World!\")\n"
   ]
  },
  {
   "cell_type": "code",
   "execution_count": 3,
   "id": "24a73b3d-29a6-4a1b-9a48-8641d8e5b144",
   "metadata": {},
   "outputs": [
    {
     "name": "stdout",
     "output_type": "stream",
     "text": [
      "Hello World! \n",
      "Hello World!\n"
     ]
    }
   ],
   "source": [
    "# Print multiple lines to console by using the \\n character in a string to create a new line\n",
    "print(\"Hello World! \\nHello World!\")\n"
   ]
  },
  {
   "cell_type": "code",
   "execution_count": 4,
   "id": "986ee88d-f844-4c09-91dc-27a14fef5cdb",
   "metadata": {},
   "outputs": [
    {
     "name": "stdout",
     "output_type": "stream",
     "text": [
      "Hello World!\n"
     ]
    }
   ],
   "source": [
    "#  Concatenate or add two strings together\n",
    "print(\"Hello \" + \"World!\")\n"
   ]
  },
  {
   "cell_type": "code",
   "execution_count": 17,
   "id": "5c475cb6-49bd-4b00-b739-790696f5d9a6",
   "metadata": {},
   "outputs": [
    {
     "name": "stdin",
     "output_type": "stream",
     "text": [
      "What is your name? dyeadal\n"
     ]
    },
    {
     "data": {
      "text/plain": [
       "'dyeadal'"
      ]
     },
     "execution_count": 17,
     "metadata": {},
     "output_type": "execute_result"
    }
   ],
   "source": [
    "# Asks user for an input\n",
    "input(\"What is your name?\")\n"
   ]
  },
  {
   "cell_type": "code",
   "execution_count": 25,
   "id": "d476310f-a2c9-46f2-b09e-58507e8361bf",
   "metadata": {},
   "outputs": [
    {
     "name": "stdin",
     "output_type": "stream",
     "text": [
      "What is your name?  dyeadal\n"
     ]
    },
    {
     "name": "stdout",
     "output_type": "stream",
     "text": [
      "Hello, dyeadal!\n"
     ]
    }
   ],
   "source": [
    "# Ask user for input then print a greeting\n",
    "print(\"Hello, \" + input(\"What is your name? \") + \"!\")\n"
   ]
  },
  {
   "cell_type": "code",
   "execution_count": 27,
   "id": "25e0afeb-0738-4fe7-b38f-f4c51550f680",
   "metadata": {},
   "outputs": [
    {
     "name": "stdin",
     "output_type": "stream",
     "text": [
      "What is your name? dyeadal\n"
     ]
    },
    {
     "name": "stdout",
     "output_type": "stream",
     "text": [
      "Hello, dyeadal\n"
     ]
    }
   ],
   "source": [
    "name = input(\"What is your name?\")\n",
    "print(\"Hello, \" + name)\n"
   ]
  },
  {
   "cell_type": "code",
   "execution_count": 29,
   "id": "3b35fc9c-c7db-4bed-b527-d6251543d9b1",
   "metadata": {},
   "outputs": [
    {
     "name": "stdout",
     "output_type": "stream",
     "text": [
      "First value\n",
      "Second value\n"
     ]
    }
   ],
   "source": [
    "# Create a variable and then change its value\n",
    "i = \"First value\"\n",
    "print(i)\n",
    "\n",
    "i = \"Second value\"\n",
    "print(i)\n"
   ]
  },
  {
   "cell_type": "code",
   "execution_count": 35,
   "id": "abd8a3ff-7669-49c7-9412-6bc49278b937",
   "metadata": {},
   "outputs": [
    {
     "name": "stdin",
     "output_type": "stream",
     "text": [
      "Name:  dyeadal\n"
     ]
    },
    {
     "data": {
      "text/plain": [
       "7"
      ]
     },
     "execution_count": 35,
     "metadata": {},
     "output_type": "execute_result"
    }
   ],
   "source": [
    "# grab the length of a string\n",
    "len(input(\"Name: \"))\n"
   ]
  },
  {
   "cell_type": "code",
   "execution_count": 45,
   "id": "b0b8cd12-b3b3-442d-a868-cf96555336fd",
   "metadata": {},
   "outputs": [
    {
     "name": "stdout",
     "output_type": "stream",
     "text": [
      "Second value\n",
      "Second value : 12\n"
     ]
    }
   ],
   "source": [
    "# grab a length of a string in a varaible and print out as a string (must change int to a str)\n",
    "print(i)\n",
    "print(i + \" : \" + str(len(i)))\n"
   ]
  },
  {
   "cell_type": "code",
   "execution_count": 51,
   "id": "09bde088-4e38-4294-b29f-de92800c369f",
   "metadata": {},
   "outputs": [
    {
     "name": "stdin",
     "output_type": "stream",
     "text": [
      "What is your username dyeadal\n"
     ]
    },
    {
     "name": "stdout",
     "output_type": "stream",
     "text": [
      "7\n"
     ]
    }
   ],
   "source": [
    "# ask for username and print out length of their username\n",
    "username = input(\"What is your username\")\n",
    "length = len(username)\n",
    "print(length)"
   ]
  },
  {
   "cell_type": "code",
   "execution_count": 55,
   "id": "733c30c0-7720-45a6-8748-4d805b562c80",
   "metadata": {},
   "outputs": [
    {
     "name": "stdout",
     "output_type": "stream",
     "text": [
      "Glass 1: juice\n",
      "Glass 2: milk\n"
     ]
    }
   ],
   "source": [
    "# Excercise Challenge:\n",
    "# In three lines change the contents of the variables\n",
    "glass1 = \"milk\"\n",
    "glass2 = \"juice\"\n",
    "\n",
    "jar = glass1 # copy milk content into jar\n",
    "glass1 = glass2 # copy juice to glass1\n",
    "glass2 = jar # copy milk from jar into glass2\n",
    "\n",
    "# Print out results\n",
    "print(\"Glass 1: \" + glass1 + \"\\nGlass 2: \" + glass2)"
   ]
  },
  {
   "cell_type": "code",
   "execution_count": null,
   "id": "db050183-b08f-4215-ba4a-37fe04e57f63",
   "metadata": {},
   "outputs": [],
   "source": []
  }
 ],
 "metadata": {
  "kernelspec": {
   "display_name": "Python [conda env:base] *",
   "language": "python",
   "name": "conda-base-py"
  },
  "language_info": {
   "codemirror_mode": {
    "name": "ipython",
    "version": 3
   },
   "file_extension": ".py",
   "mimetype": "text/x-python",
   "name": "python",
   "nbconvert_exporter": "python",
   "pygments_lexer": "ipython3",
   "version": "3.12.7"
  }
 },
 "nbformat": 4,
 "nbformat_minor": 5
}
