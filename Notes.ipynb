{
 "cells": [
  {
   "cell_type": "markdown",
   "id": "90356afe-8ae6-4713-af65-9fe79495d6d5",
   "metadata": {},
   "source": [
    "Day 002\n",
    "---\n",
    "Today we will be focusing on learning and implementing:\n",
    "- Data Types\n",
    "- Numbers\n",
    "- Operations\n",
    "- Type Conversions\n",
    "- f-Strings"
   ]
  },
  {
   "cell_type": "code",
   "execution_count": 105,
   "id": "1bbb2a80-387d-4fee-bfb7-b2a05493b1fd",
   "metadata": {},
   "outputs": [
    {
     "name": "stdout",
     "output_type": "stream",
     "text": [
      "<class 'str'>\n",
      "<class 'int'>\n",
      "<class 'float'>\n",
      "<class 'bool'>\n"
     ]
    }
   ],
   "source": [
    "# Important data types as a variable\n",
    "string1 = \"Hello\"\n",
    "int1 = 23\n",
    "float1 = 3.14159\n",
    "boolean1 = True\n",
    "\n",
    "# View a variables type by using the type() function\n",
    "# Known as Type Checking\n",
    "print(type(string1))\n",
    "print(type(int1))\n",
    "print(type(float1))\n",
    "print(type(boolean1))"
   ]
  },
  {
   "cell_type": "code",
   "execution_count": 107,
   "id": "aebdde3c-7f44-49c9-84b8-fe41a2192b5d",
   "metadata": {},
   "outputs": [
    {
     "name": "stdout",
     "output_type": "stream",
     "text": [
      "H\n"
     ]
    }
   ],
   "source": [
    "# Print the first character of the string1 variable\n",
    "print(string1[0])"
   ]
  },
  {
   "cell_type": "code",
   "execution_count": 109,
   "id": "55f0d05c-8694-407d-ae68-2a629f42bdf1",
   "metadata": {},
   "outputs": [
    {
     "name": "stdout",
     "output_type": "stream",
     "text": [
      "2345\n"
     ]
    }
   ],
   "source": [
    "# strings can never be used for mathmatical functions, numbers stored as string can only concatenate\n",
    "a = \"23\"\n",
    "b = \"45\"\n",
    "print(a + b)"
   ]
  },
  {
   "cell_type": "code",
   "execution_count": 111,
   "id": "30152ce5-dd45-4854-96b2-5595d21bcbb8",
   "metadata": {},
   "outputs": [
    {
     "name": "stdout",
     "output_type": "stream",
     "text": [
      "68\n",
      "-22\n",
      "1035\n",
      "0.5111111111111111\n"
     ]
    }
   ],
   "source": [
    "# You can perform a conversion type to then transform the contents of a variable temporarily to perform mathmatical functions\n",
    "\n",
    "# Addition\n",
    "print(int(a) + int(b))\n",
    "\n",
    "# Subtraction\n",
    "print(int(a) - int(b))\n",
    "\n",
    "# Multiplacation\n",
    "print(int(a) * int(b))\n",
    "\n",
    "# Division\n",
    "print(int(a) / int(b))"
   ]
  },
  {
   "cell_type": "code",
   "execution_count": 113,
   "id": "e5f8290f-bb15-4a74-9235-8c010b2241f8",
   "metadata": {},
   "outputs": [
    {
     "name": "stdout",
     "output_type": "stream",
     "text": [
      "Contents and data type of int1\n",
      "23\n",
      "<class 'int'>\n",
      "\n",
      "String conversion on int1\n",
      "23\n",
      "<class 'str'>\n",
      "\n",
      "Contents and data type of boolean1\n",
      "True\n",
      "<class 'bool'>\n",
      "\n",
      "String conversion of boolean1\n",
      "<class 'str'>\n"
     ]
    }
   ],
   "source": [
    "# Conversions are important when dealing with different data types\n",
    "\n",
    "# Print the value of int1, it original data type, and print out the data type of a str conversion  \n",
    "print(\"Contents and data type of int1\")\n",
    "print(int1)\n",
    "print(type(int1))\n",
    "      \n",
    "print(\"\\nString conversion on int1\")\n",
    "print(str(int1))\n",
    "print(type(str(int1)))\n",
    "\n",
    "print(\"\\nContents and data type of boolean1\")\n",
    "print(boolean1)\n",
    "print(type(boolean1))\n",
    "\n",
    "print(\"\\nString conversion of boolean1\")\n",
    "print(type(str(boolean1)))"
   ]
  },
  {
   "cell_type": "code",
   "execution_count": 115,
   "id": "db11019d-ed78-4339-8b50-2c7366191934",
   "metadata": {},
   "outputs": [
    {
     "name": "stdout",
     "output_type": "stream",
     "text": [
      "True\n",
      "True\n",
      "12345\n",
      "12345\n"
     ]
    }
   ],
   "source": [
    "# Other conversion functions\n",
    "print(\"True\")\n",
    "print(bool(\"True\"))\n",
    "\n",
    "print(\"12345\")\n",
    "print(int(\"12345\"))"
   ]
  },
  {
   "cell_type": "code",
   "execution_count": 117,
   "id": "e1e5246a-681d-4c38-b5d3-cb19f1d64091",
   "metadata": {},
   "outputs": [
    {
     "name": "stdin",
     "output_type": "stream",
     "text": [
      "Enter your name:  dyeadal\n"
     ]
    },
    {
     "name": "stdout",
     "output_type": "stream",
     "text": [
      "Number of letters in your name: 7\n"
     ]
    }
   ],
   "source": [
    "# Exercise Challenge\n",
    "print(\"Number of letters in your name: \" + str(len(input(\"Enter your name: \"))))"
   ]
  },
  {
   "cell_type": "code",
   "execution_count": 123,
   "id": "b59a9f68-8a3d-4a44-a9b8-e0644d9f6b8c",
   "metadata": {},
   "outputs": [
    {
     "name": "stdout",
     "output_type": "stream",
     "text": [
      "2.0\n",
      "2\n",
      "2.6666666666666665\n",
      "2\n"
     ]
    }
   ],
   "source": [
    "# Division will always return a float\n",
    "a = 6\n",
    "b = 3\n",
    "\n",
    "print(a / b)\n",
    "\n",
    "# This is implied, to return only an integer we can use the // operation instead\n",
    "\n",
    "print(a // b)\n",
    "\n",
    "# WARNING\n",
    "# Using this on results that should return floats will instead return the rounded DOWN integer\n",
    "\n",
    "a = 8\n",
    "print(a / b)\n",
    "print(a // b)"
   ]
  },
  {
   "cell_type": "code",
   "execution_count": 125,
   "id": "90426800-8146-40db-811d-de037bbbbf81",
   "metadata": {},
   "outputs": [
    {
     "name": "stdout",
     "output_type": "stream",
     "text": [
      "9\n"
     ]
    }
   ],
   "source": [
    "# Exponential math operations\n",
    "print(3 ** 2)"
   ]
  },
  {
   "cell_type": "code",
   "execution_count": null,
   "id": "375a53ac-abf0-498b-a897-7583b94b0b31",
   "metadata": {},
   "outputs": [],
   "source": [
    "# Math operations follow PEMDAS\n",
    "\n",
    "# Parantheses first\n",
    "print((3+2)*5)\n",
    "\n",
    "# Exponents second\n",
    "print()\n",
    "\n",
    "# Multiplacation and Division third (left to right)\n",
    "print()\n",
    "\n",
    "# Addition and Subtraction last (left to right)\n",
    "print()"
   ]
  },
  {
   "cell_type": "code",
   "execution_count": 131,
   "id": "1391f5b8-bc41-4f3e-8e5e-a78aea5460a4",
   "metadata": {},
   "outputs": [
    {
     "name": "stdin",
     "output_type": "stream",
     "text": [
      "Weight:  180\n",
      "Height in inches:  58\n"
     ]
    },
    {
     "name": "stdout",
     "output_type": "stream",
     "text": [
      "BMI score: 37.61593341260404\n"
     ]
    }
   ],
   "source": [
    "# BMI calculator\n",
    "weight = float(input(\"Weight: \"))\n",
    "height = float(input(\"Height in inches: \"))\n",
    "bmi = weight / (height ** 2) * 703\n",
    "print(\"BMI score: \" + str(bmi))"
   ]
  },
  {
   "cell_type": "code",
   "execution_count": 143,
   "id": "88250729-7e5c-4e74-b0a4-e9bf4bbfd70f",
   "metadata": {},
   "outputs": [
    {
     "name": "stdout",
     "output_type": "stream",
     "text": [
      "38\n",
      "37.6\n",
      "37.62\n"
     ]
    }
   ],
   "source": [
    "# Rounding number to the nearest integer\n",
    "print(round(bmi))\n",
    "\n",
    "# You can specify which number place to round too\n",
    "print(round(bmi, 1))\n",
    "print(round(bmi, 2))"
   ]
  },
  {
   "cell_type": "code",
   "execution_count": 147,
   "id": "ecad54c0-90b7-4dde-8903-99f6e2f82704",
   "metadata": {},
   "outputs": [
    {
     "name": "stdout",
     "output_type": "stream",
     "text": [
      "6\n",
      "7\n",
      "9\n",
      "10\n"
     ]
    }
   ],
   "source": [
    "# You can add values to an existing variable without calling on itself multiple times\n",
    "\n",
    "a = 6\n",
    "print(a)\n",
    "a = a + 1\n",
    "print(a)\n",
    "\n",
    "b = 9\n",
    "print(b)\n",
    "b += 1\n",
    "print(b)"
   ]
  },
  {
   "cell_type": "code",
   "execution_count": 151,
   "id": "5d1fd094-58af-4090-9ae5-ebca0cac21f6",
   "metadata": {},
   "outputs": [
    {
     "name": "stdout",
     "output_type": "stream",
     "text": [
      "Int: 8\n",
      "Float: 4.3\n",
      "String: Hello\n",
      "Boolean: True\n"
     ]
    }
   ],
   "source": [
    "# Conversion can be used to print out non-string variables\n",
    "# Instead it is easier to use fstrings\n",
    "a = 8\n",
    "b = 4.3\n",
    "c = \"Hello\"\n",
    "d = True\n",
    "\n",
    "# Single print line that did not convert our data types, much easier to type and read\n",
    "print(f\"Int: {a}\\nFloat: {b}\\nString: {c}\\nBoolean: {d}\")"
   ]
  }
 ],
 "metadata": {
  "kernelspec": {
   "display_name": "Python [conda env:base] *",
   "language": "python",
   "name": "conda-base-py"
  },
  "language_info": {
   "codemirror_mode": {
    "name": "ipython",
    "version": 3
   },
   "file_extension": ".py",
   "mimetype": "text/x-python",
   "name": "python",
   "nbconvert_exporter": "python",
   "pygments_lexer": "ipython3",
   "version": "3.12.7"
  }
 },
 "nbformat": 4,
 "nbformat_minor": 5
}
