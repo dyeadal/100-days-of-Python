{
 "cells": [
  {
   "cell_type": "markdown",
   "id": "d6ef6826-59a9-4fad-a735-0cf364490774",
   "metadata": {},
   "source": [
    "Day 003\n",
    "---\n",
    "- Conditional Statements\n",
    "- Logical Operators\n",
    "- Code Blocks\n",
    "- Scope\n",
    " "
   ]
  },
  {
   "cell_type": "code",
   "execution_count": 31,
   "id": "2df706ce-0fc7-4abb-9f31-7ef19932d8df",
   "metadata": {},
   "outputs": [
    {
     "name": "stdout",
     "output_type": "stream",
     "text": [
      "True\n",
      "55\n",
      "\n",
      "Welcome to the rollercoaster!\n"
     ]
    },
    {
     "name": "stdin",
     "output_type": "stream",
     "text": [
      "What is your height in cm?  120\n"
     ]
    },
    {
     "name": "stdout",
     "output_type": "stream",
     "text": [
      "You can ride the rollercoaster\n"
     ]
    }
   ],
   "source": [
    "# Conditional Statements\n",
    "\n",
    "# if/else statememts\n",
    "\n",
    "i = 0\n",
    "if i == 0:\n",
    "    print(True)\n",
    "else:\n",
    " print(False)\n",
    "\n",
    "\n",
    "# Water Tub\n",
    "# If water level is above 80 remove 20 units, if not add 5 units\n",
    "water_level = 50 \n",
    "if water_level > 80:\n",
    "    water_level -= 20\n",
    "    print(water_level)\n",
    "else:\n",
    "    water_level += 5\n",
    "    print(water_level)\n",
    "\n",
    "# Rollercoaster\n",
    "# Must be 120cm or higher to ride\n",
    "print(\"\\nWelcome to the rollercoaster!\")\n",
    "height = int(input(\"What is your height in cm? \"))\n",
    "\n",
    "if height >= 120:\n",
    "    print(\"You can ride the rollercoaster\")\n",
    "else:\n",
    "    print(\"Drink more milk, get out of the line.\")"
   ]
  },
  {
   "cell_type": "code",
   "execution_count": 43,
   "id": "01e03589-9183-4319-ac6e-df2571f5f7fc",
   "metadata": {},
   "outputs": [
    {
     "name": "stdout",
     "output_type": "stream",
     "text": [
      "True\n",
      "False\n"
     ]
    },
    {
     "data": {
      "text/plain": [
       "1"
      ]
     },
     "execution_count": 43,
     "metadata": {},
     "output_type": "execute_result"
    }
   ],
   "source": [
    "# Logical Operators\n",
    "\n",
    "# Assignment\n",
    "a = 20\n",
    "\n",
    "# Print True or False that a is equal to the int value of 20\n",
    "print(a == 20)\n",
    "\n",
    "# Print True or False that a IS NOT equal to the int value of 20\n",
    "print(a != 20)\n",
    "\n",
    "# Modulo Operator, returns remaining values after division\n",
    "10 % 2\n",
    "10 % 3"
   ]
  },
  {
   "cell_type": "code",
   "execution_count": 51,
   "id": "dbbb9af5-665c-45c5-ba51-69b3262f5115",
   "metadata": {},
   "outputs": [
    {
     "name": "stdin",
     "output_type": "stream",
     "text": [
      "Insert a number #:  34\n"
     ]
    },
    {
     "name": "stdout",
     "output_type": "stream",
     "text": [
      "Even\n"
     ]
    }
   ],
   "source": [
    "# Coding Challenge\n",
    "# Check user number input if it is Odd or Even\n",
    "num = int(input(\"Insert a number #: \"))\n",
    "if num % 2 == 0:\n",
    "    print(\"Even\")\n",
    "else:\n",
    "    print(\"Odd\")"
   ]
  },
  {
   "cell_type": "code",
   "execution_count": 61,
   "id": "f2abaaad-d18b-4501-bff1-09c942fe6957",
   "metadata": {},
   "outputs": [
    {
     "name": "stdout",
     "output_type": "stream",
     "text": [
      "\n",
      "Welcome to the rollercoaster!\n"
     ]
    },
    {
     "name": "stdin",
     "output_type": "stream",
     "text": [
      "What is your height in cm?  144\n"
     ]
    },
    {
     "name": "stdout",
     "output_type": "stream",
     "text": [
      "You can ride the rollercoaster\n"
     ]
    },
    {
     "name": "stdin",
     "output_type": "stream",
     "text": [
      "What is your age?  24\n",
      "Do you want your picture taken? (y/n) y\n"
     ]
    },
    {
     "name": "stdout",
     "output_type": "stream",
     "text": [
      "Total $: 15\n"
     ]
    }
   ],
   "source": [
    "# Rollercoaster\n",
    "# Must be 120cm or higher to ride\n",
    "# 12 and under pay $5, 18 and under pay $7, and adults pay $12\n",
    "print(\"\\nWelcome to the rollercoaster!\")\n",
    "height = int(input(\"What is your height in cm? \"))\n",
    "\n",
    "if height >= 120:\n",
    "    print(\"You can ride the rollercoaster\")\n",
    "    age = int(input(\"What is your age? \"))\n",
    "    total = 0\n",
    "    # Nested if/else\n",
    "    if age < 12:\n",
    "        total += 5\n",
    "    elif age <= 18:\n",
    "        total += 7\n",
    "    else:\n",
    "        total += 12\n",
    "\n",
    "    photo = input(\"Do you want your picture taken? (y/n)\")\n",
    "    if photo == \"y\":\n",
    "        total += 3        \n",
    "        \n",
    "else:\n",
    "    print(\"Drink more milk, get out of the line.\")\n",
    "\n",
    "\n",
    "print(f\"Total $: {total}\")"
   ]
  },
  {
   "cell_type": "code",
   "execution_count": null,
   "id": "b66f45cb-3929-43e4-9c50-fb478ef04b98",
   "metadata": {},
   "outputs": [],
   "source": []
  },
  {
   "cell_type": "code",
   "execution_count": 11,
   "id": "74240003-62a3-4206-b4c9-be8cc0c89b50",
   "metadata": {},
   "outputs": [],
   "source": [
    "# Code Blocks"
   ]
  },
  {
   "cell_type": "code",
   "execution_count": 13,
   "id": "d5616fd7-bbb7-4cdc-9432-cc36c6f4eb3e",
   "metadata": {},
   "outputs": [],
   "source": [
    "# Scope"
   ]
  },
  {
   "cell_type": "code",
   "execution_count": null,
   "id": "d451dd6e-b2db-4447-9394-74cfad898b99",
   "metadata": {},
   "outputs": [],
   "source": []
  }
 ],
 "metadata": {
  "kernelspec": {
   "display_name": "Python [conda env:base] *",
   "language": "python",
   "name": "conda-base-py"
  },
  "language_info": {
   "codemirror_mode": {
    "name": "ipython",
    "version": 3
   },
   "file_extension": ".py",
   "mimetype": "text/x-python",
   "name": "python",
   "nbconvert_exporter": "python",
   "pygments_lexer": "ipython3",
   "version": "3.12.7"
  }
 },
 "nbformat": 4,
 "nbformat_minor": 5
}
