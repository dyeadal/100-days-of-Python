{
 "cells": [
  {
   "cell_type": "markdown",
   "id": "d6ef6826-59a9-4fad-a735-0cf364490774",
   "metadata": {},
   "source": [
    "Day 003\n",
    "---\n",
    "- Conditional Statements\n",
    "- Logical Operators\n",
    "- Code Blocks\n",
    "- Scope\n",
    " "
   ]
  },
  {
   "cell_type": "code",
   "execution_count": 2,
   "id": "2df706ce-0fc7-4abb-9f31-7ef19932d8df",
   "metadata": {},
   "outputs": [
    {
     "name": "stdout",
     "output_type": "stream",
     "text": [
      "True\n",
      "55\n",
      "\n",
      "Welcome to the rollercoaster!\n"
     ]
    },
    {
     "name": "stdin",
     "output_type": "stream",
     "text": [
      "What is your height in cm?  135\n"
     ]
    },
    {
     "name": "stdout",
     "output_type": "stream",
     "text": [
      "You can ride the rollercoaster\n"
     ]
    }
   ],
   "source": [
    "# Conditional Statements\n",
    "\n",
    "# if/else statememts\n",
    "\n",
    "i = 0\n",
    "if i == 0:\n",
    "    print(True)\n",
    "else:\n",
    " print(False)\n",
    "\n",
    "\n",
    "# Water Tub\n",
    "# If water level is above 80 remove 20 units, if not add 5 units\n",
    "water_level = 50 \n",
    "if water_level > 80:\n",
    "    water_level -= 20\n",
    "    print(water_level)\n",
    "else:\n",
    "    water_level += 5\n",
    "    print(water_level)\n",
    "\n",
    "# Rollercoaster\n",
    "# Must be 120cm or higher to ride\n",
    "print(\"\\nWelcome to the rollercoaster!\")\n",
    "height = int(input(\"What is your height in cm? \"))\n",
    "\n",
    "if height >= 120:\n",
    "    print(\"You can ride the rollercoaster\")\n",
    "else:\n",
    "    print(\"Drink more milk, get out of the line.\")"
   ]
  },
  {
   "cell_type": "code",
   "execution_count": 3,
   "id": "01e03589-9183-4319-ac6e-df2571f5f7fc",
   "metadata": {},
   "outputs": [
    {
     "name": "stdout",
     "output_type": "stream",
     "text": [
      "True\n",
      "False\n"
     ]
    },
    {
     "data": {
      "text/plain": [
       "1"
      ]
     },
     "execution_count": 3,
     "metadata": {},
     "output_type": "execute_result"
    }
   ],
   "source": [
    "# Logical Operators\n",
    "\n",
    "# Assignment\n",
    "a = 20\n",
    "\n",
    "# Print True or False that a is equal to the int value of 20\n",
    "print(a == 20)\n",
    "\n",
    "# Print True or False that a IS NOT equal to the int value of 20\n",
    "print(a != 20)\n",
    "\n",
    "# Modulo Operator, returns remaining values after division\n",
    "10 % 2\n",
    "10 % 3"
   ]
  },
  {
   "cell_type": "code",
   "execution_count": 4,
   "id": "dbbb9af5-665c-45c5-ba51-69b3262f5115",
   "metadata": {},
   "outputs": [
    {
     "name": "stdin",
     "output_type": "stream",
     "text": [
      "Insert a number #:  44\n"
     ]
    },
    {
     "name": "stdout",
     "output_type": "stream",
     "text": [
      "Even\n"
     ]
    }
   ],
   "source": [
    "# Coding Challenge\n",
    "# Check user number input if it is Odd or Even\n",
    "num = int(input(\"Insert a number #: \"))\n",
    "if num % 2 == 0:\n",
    "    print(\"Even\")\n",
    "else:\n",
    "    print(\"Odd\")"
   ]
  },
  {
   "cell_type": "code",
   "execution_count": 37,
   "id": "f2abaaad-d18b-4501-bff1-09c942fe6957",
   "metadata": {},
   "outputs": [
    {
     "name": "stdout",
     "output_type": "stream",
     "text": [
      "\n",
      "Welcome to the rollercoaster!\n"
     ]
    },
    {
     "name": "stdin",
     "output_type": "stream",
     "text": [
      "What is your height in cm?  140\n"
     ]
    },
    {
     "name": "stdout",
     "output_type": "stream",
     "text": [
      "You can ride the rollercoaster\n"
     ]
    },
    {
     "name": "stdin",
     "output_type": "stream",
     "text": [
      "What is your age?  45\n",
      "Do you want your picture taken? (y/n) n\n"
     ]
    },
    {
     "name": "stdout",
     "output_type": "stream",
     "text": [
      "Total $: 0\n"
     ]
    }
   ],
   "source": [
    "# Rollercoaster\n",
    "# Must be 120cm or higher to ride\n",
    "# 12 and under pay $5, 18 and under pay $7, and adults pay $12\n",
    "print(\"\\nWelcome to the rollercoaster!\")\n",
    "height = int(input(\"What is your height in cm? \"))\n",
    "\n",
    "# height restriction of our ride\n",
    "if height >= 120:\n",
    "    print(\"You can ride the rollercoaster\")\n",
    "    age = int(input(\"What is your age? \"))\n",
    "    total = 0\n",
    "    # Nested if/else to calculate fare based on age\n",
    "    if age < 12:\n",
    "        total += 5\n",
    "    elif age <= 18:\n",
    "        total += 7\n",
    "    elif age >= 45 and age <= 55:\n",
    "        total += 0\n",
    "    else:\n",
    "        total += 12\n",
    "\n",
    "    # Variable and if statement for photo\n",
    "    photo = input(\"Do you want your picture taken? (y/n)\")\n",
    "    if photo == \"y\":\n",
    "        total += 3        \n",
    "\n",
    "    # Print out our total\n",
    "    print(f\"Total $: {total}\")\n",
    "\n",
    "# if height is less than 120 cm\n",
    "else:\n",
    "    print(\"Drink more milk, get out of the line.\")\n",
    "    "
   ]
  },
  {
   "cell_type": "code",
   "execution_count": 1,
   "id": "9bc4e40c-b7a1-41a4-a9ae-0e09e8a322bd",
   "metadata": {},
   "outputs": [
    {
     "name": "stdout",
     "output_type": "stream",
     "text": [
      "Welcome to Python Pizza!\n",
      "\n"
     ]
    },
    {
     "name": "stdin",
     "output_type": "stream",
     "text": [
      "What size pizza do you want? S, M, or L:  M\n",
      "Do you want pepporoni on your pizza(Y/N)?  Y\n",
      "Do you want extra cheese (Y/N)?  N\n"
     ]
    },
    {
     "name": "stdout",
     "output_type": "stream",
     "text": [
      "Total = $23\n"
     ]
    }
   ],
   "source": [
    "# Python Pizza Challenge\n",
    "\n",
    "print(\"Welcome to Python Pizza!\\n\")\n",
    "\n",
    "size = input(\"What size pizza do you want? S, M, or L: \")\n",
    "pepperoni = input(\"Do you want pepporoni on your pizza(Y/N)? \")\n",
    "extra_cheese = input(\"Do you want extra cheese (Y/N)? \")\n",
    "\n",
    "total = 0\n",
    "\n",
    "# Pizza pie size\n",
    "if size == \"S\":\n",
    "    total += 15\n",
    "    \n",
    "elif size == \"M\": \n",
    "    total += 20\n",
    "    \n",
    "elif size == \"L\":\n",
    "    total += 25\n",
    "\n",
    "else:\n",
    "    print(\"Error, exiting program.\")\n",
    "    exit()\n",
    "\n",
    "# Pepperoni choice\n",
    "if pepperoni == \"Y\":\n",
    "    if size == \"S\":\n",
    "        total += 2\n",
    "    elif size == \"M\" or \"L\":\n",
    "        total += 3\n",
    "\n",
    "elif pepperoni == \"N\":\n",
    "    total += 0\n",
    "\n",
    "else:\n",
    "    print(\"Error, exiting program.\")\n",
    "    exit()\n",
    "\n",
    "# cheese choice\n",
    "if extra_cheese == \"Y\":\n",
    "    total += 1\n",
    "\n",
    "elif extra_cheese == \"N\":\n",
    "    total += 0\n",
    "\n",
    "else:\n",
    "    print(\"Error, exiting program.\")\n",
    "    exit()\n",
    "# work out final bill\n",
    "\n",
    "print(f\"Total = ${total}\")"
   ]
  },
  {
   "cell_type": "code",
   "execution_count": 39,
   "id": "01b6067c-6b4f-4ae8-a1fa-96e2e1bce989",
   "metadata": {},
   "outputs": [
    {
     "name": "stdout",
     "output_type": "stream",
     "text": [
      "and:\n",
      "True\n",
      "False\n",
      "False\n",
      "1 + 2 = 3 and 2 = 1 * 2 returns: True\n",
      "\n",
      "or:\n",
      "True\n",
      "False\n",
      "True\n",
      "1 + 2 = 3 or 2 = 1 returns: True\n"
     ]
    }
   ],
   "source": [
    "# Logical Operators\n",
    "a = 1 \n",
    "b = 2\n",
    "c = 3\n",
    "\n",
    "# and\n",
    "print(\"and:\")\n",
    "print(True and True)\n",
    "print(False and False)\n",
    "print(True and False)\n",
    "print(f\"{a} + {b} = {c} and {b} = {a} * {b} returns: {a + b == c and b == a * b}\")\n",
    "#or\n",
    "print(\"\\nor:\")\n",
    "print(True or True)\n",
    "print(False or False)\n",
    "print(True or False)\n",
    "print(f\"{a} + {b} = {c} or {b} = {a} returns: {a + b == c or b == a}\")"
   ]
  }
 ],
 "metadata": {
  "kernelspec": {
   "display_name": "Python [conda env:base] *",
   "language": "python",
   "name": "conda-base-py"
  },
  "language_info": {
   "codemirror_mode": {
    "name": "ipython",
    "version": 3
   },
   "file_extension": ".py",
   "mimetype": "text/x-python",
   "name": "python",
   "nbconvert_exporter": "python",
   "pygments_lexer": "ipython3",
   "version": "3.12.7"
  }
 },
 "nbformat": 4,
 "nbformat_minor": 5
}
