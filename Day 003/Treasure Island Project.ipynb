{
 "cells": [
  {
   "cell_type": "markdown",
   "id": "5c1e90c3-d442-4e35-acc7-b1a387d7a2df",
   "metadata": {},
   "source": [
    "## Day 003 Project\n",
    "---\n",
    "Treasure Island Project to display implementations of:\n",
    "- Conditional Statements\n",
    "- Logical Operators\n",
    "- Code Blocks\n",
    "- Scope"
   ]
  },
  {
   "cell_type": "code",
   "execution_count": 2,
   "id": "d9dfa808-b8ea-4d68-a411-333d837730d3",
   "metadata": {},
   "outputs": [
    {
     "name": "stdout",
     "output_type": "stream",
     "text": [
      "Welcome to Treasure Island\n",
      "Your mission is to find the treasure\n"
     ]
    }
   ],
   "source": [
    "print(\"Welcome to Treasure Island\")\n",
    "print(\"Your mission is to find the treasure\")"
   ]
  },
  {
   "cell_type": "code",
   "execution_count": 43,
   "id": "4380a419-6270-4f09-a9be-3a72a43b4b24",
   "metadata": {},
   "outputs": [
    {
     "name": "stdout",
     "output_type": "stream",
     "text": [
      "You're at a cross road. Where do you want to go?\n"
     ]
    },
    {
     "name": "stdin",
     "output_type": "stream",
     "text": [
      "\tType \"left\" or \"right\":  left\n"
     ]
    },
    {
     "name": "stdout",
     "output_type": "stream",
     "text": [
      "\n",
      "You've come to an lake with a island in the middle of it. Where do you want to go?\n"
     ]
    },
    {
     "name": "stdin",
     "output_type": "stream",
     "text": [
      "\tType \"swim\" or \"wait\":  wait\n"
     ]
    },
    {
     "name": "stdout",
     "output_type": "stream",
     "text": [
      "\n",
      "A boat appears and you arrive to the island unharmed. \n",
      "There is a single building with three doors painted in different colors.\n"
     ]
    },
    {
     "name": "stdin",
     "output_type": "stream",
     "text": [
      "\tEnter through the \"blue\",\"yellow\", or \"red\" entrance? yellow\n"
     ]
    },
    {
     "name": "stdout",
     "output_type": "stream",
     "text": [
      "\n",
      "You Win!\n"
     ]
    }
   ],
   "source": [
    "# Cross Road\n",
    "print(\"You're at a cross road. Where do you want to go?\")\n",
    "crossroad_turn = input(\"\\tType \\\"left\\\" or \\\"right\\\": \")\n",
    "\n",
    "if crossroad_turn == \"left\":\n",
    "    # Go to lake\n",
    "    print(\"\\nYou've come to an lake with a island in the middle of it. Where do you want to go?\")\n",
    "    lake_turn = input(\"\\tType \\\"swim\\\" or \\\"wait\\\": \")\n",
    "    if lake_turn == \"swim\":\n",
    "        print(\"\\nGame Over!\")\n",
    "    elif lake_turn == \"wait\":\n",
    "        print(\"\\nA boat appears and you arrive to the island unharmed. \\nThere is a single building with three doors painted in different colors.\")\n",
    "        entrance = input(\"\\tEnter through the \\\"blue\\\",\\\"yellow\\\", or \\\"red\\\" entrance?\")\n",
    "        if entrance == \"yellow\":\n",
    "            print(\"\\nYou Win!\")\n",
    "        elif entrance == \"blue\" or \"red\":\n",
    "            print(\"\\nGame Over!\")\n",
    "\n",
    "elif crossroad_turn == \"right\":\n",
    "    print(\"\\nGame Over!\")"
   ]
  },
  {
   "cell_type": "code",
   "execution_count": null,
   "id": "42653aa3-caed-4878-aa60-c1e1a4bc1311",
   "metadata": {},
   "outputs": [],
   "source": []
  }
 ],
 "metadata": {
  "kernelspec": {
   "display_name": "Python [conda env:base] *",
   "language": "python",
   "name": "conda-base-py"
  },
  "language_info": {
   "codemirror_mode": {
    "name": "ipython",
    "version": 3
   },
   "file_extension": ".py",
   "mimetype": "text/x-python",
   "name": "python",
   "nbconvert_exporter": "python",
   "pygments_lexer": "ipython3",
   "version": "3.12.7"
  }
 },
 "nbformat": 4,
 "nbformat_minor": 5
}
