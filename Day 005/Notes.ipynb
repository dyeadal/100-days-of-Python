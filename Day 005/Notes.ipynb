{
 "cells": [
  {
   "metadata": {},
   "cell_type": "markdown",
   "source": [
    "# Day 005\n",
    "---\n",
    "\n",
    "### Concept(s) we will learn:\n",
    "- Loops\n",
    "\n",
    "Project:\n",
    "A Password Generator!\n"
   ],
   "id": "110296d786503655"
  },
  {
   "metadata": {
    "ExecuteTime": {
     "end_time": "2025-08-27T19:53:21.011625Z",
     "start_time": "2025-08-27T19:53:21.008274Z"
    }
   },
   "cell_type": "code",
   "source": [
    "# Loops\n",
    "fruits = [\"Apple\", \"Peach\", \"Mango\", \"Orange\", \"Banana\", \"Cherry\", \"Pineapple\"]\n",
    "\n",
    "for fruit in fruits:\n",
    "    # Indentations are important\n",
    "    # Anything indented means it is within this loop\n",
    "    print(fruit)\n"
   ],
   "id": "16a6d02611ace3af",
   "outputs": [
    {
     "name": "stdout",
     "output_type": "stream",
     "text": [
      "Apple\n",
      "Peach\n",
      "Mango\n",
      "Orange\n",
      "Banana\n",
      "Cherry\n",
      "Pineapple\n"
     ]
    }
   ],
   "execution_count": 2
  },
  {
   "metadata": {},
   "cell_type": "markdown",
   "source": [
    "## Highest Score Exercise\n",
    "\n",
    "\n",
    "The material gives us a student_scores list variable that contains pre-made\n",
    "list with integers containing  user's grades then have us find the highest score\n",
    "within this list using a for loop\n",
    "\n",
    "I thought it would be great to utilize a for loop to generate scores randomly as well."
   ],
   "id": "3c7d754eaddb40c2"
  },
  {
   "metadata": {
    "ExecuteTime": {
     "end_time": "2025-08-27T19:53:32.676860Z",
     "start_time": "2025-08-27T19:53:24.500984Z"
    }
   },
   "cell_type": "code",
   "source": [
    "# Import random library to create our random generated scores\n",
    "import random\n",
    "\n",
    "# Prompts to ask how many items the user has graded and stores it as an integer\n",
    "graded_assignments = int(input(\"How many assignments does this user have graded: \"))"
   ],
   "id": "9d553f10a2f7f851",
   "outputs": [],
   "execution_count": 3
  },
  {
   "metadata": {
    "ExecuteTime": {
     "end_time": "2025-08-27T19:53:35.852523Z",
     "start_time": "2025-08-27T19:53:35.849395Z"
    }
   },
   "cell_type": "code",
   "source": [
    "# Create students score list variable\n",
    "student_scores = list()\n",
    "\n",
    "# For loop that generates scores based on how many graded assignments the user has\n",
    "for graded_assignment in range(graded_assignments):\n",
    "    # Creates and stores random integer from 0 to 100\n",
    "    random_score = int(random.randint(0,100))\n",
    "    # Displays random integer to user\n",
    "    print(f\"Item {graded_assignment + 1}: {random_score}/100\")\n",
    "    # Adds random integer to our list of graded items\n",
    "    student_scores.append(random_score)\n",
    "\n",
    "# Print the list of scores\n",
    "print(f\"\\nList of scores: {student_scores}\")"
   ],
   "id": "c571f9226539fafc",
   "outputs": [
    {
     "name": "stdout",
     "output_type": "stream",
     "text": [
      "Item 1: 47/100\n",
      "Item 2: 91/100\n",
      "Item 3: 26/100\n",
      "Item 4: 18/100\n",
      "Item 5: 60/100\n",
      "Item 6: 56/100\n",
      "Item 7: 22/100\n",
      "Item 8: 63/100\n",
      "\n",
      "List of scores: [47, 91, 26, 18, 60, 56, 22, 63]\n"
     ]
    }
   ],
   "execution_count": 4
  },
  {
   "metadata": {
    "ExecuteTime": {
     "end_time": "2025-08-27T19:53:40.045844Z",
     "start_time": "2025-08-27T19:53:40.041216Z"
    }
   },
   "cell_type": "code",
   "source": [
    "# Max Current Grade\n",
    "current_max_grade = 0\n",
    "\n",
    "# For loop that processes current integer to stored max integer\n",
    "for score in student_scores:\n",
    "    # If score is greater than the current max score, store it as the new current max score\n",
    "    if score > current_max_grade:\n",
    "        print(f\"{score} is greater than {current_max_grade}, storing as the current highest grade!\")\n",
    "        current_max_grade = score\n",
    "    # Current score is not greater than the current max score, ignoring score\n",
    "    else:\n",
    "        print(f\"{score} is less than {current_max_grade}.\")\n",
    "\n",
    "# Print the list of scores\n",
    "print(f\"\\nList of scores: {student_scores}\")\n",
    "\n",
    "# Print the highest grade variable\n",
    "print(f\"The highest grade is {current_max_grade}.\")"
   ],
   "id": "718959f93c45475",
   "outputs": [
    {
     "name": "stdout",
     "output_type": "stream",
     "text": [
      "47 is greater than 0, storing as the current highest grade!\n",
      "91 is greater than 47, storing as the current highest grade!\n",
      "26 is less than 91.\n",
      "18 is less than 91.\n",
      "60 is less than 91.\n",
      "56 is less than 91.\n",
      "22 is less than 91.\n",
      "63 is less than 91.\n",
      "\n",
      "List of scores: [47, 91, 26, 18, 60, 56, 22, 63]\n",
      "The highest grade is 91.\n"
     ]
    }
   ],
   "execution_count": 5
  },
  {
   "metadata": {
    "ExecuteTime": {
     "end_time": "2025-08-27T19:53:46.976042Z",
     "start_time": "2025-08-27T19:53:46.973373Z"
    }
   },
   "cell_type": "code",
   "source": [
    "# This exists as a built-in python function already called max()\n",
    "\n",
    "# Print the list of scores\n",
    "print(f\"\\nList of scores: {student_scores}\")\n",
    "\n",
    "# Print using the max function\n",
    "print(f\"Current max score: {max(student_scores)}\")"
   ],
   "id": "5d0fb912c74a68a8",
   "outputs": [
    {
     "name": "stdout",
     "output_type": "stream",
     "text": [
      "\n",
      "List of scores: [47, 91, 26, 18, 60, 56, 22, 63]\n",
      "Current max score: 91\n"
     ]
    }
   ],
   "execution_count": 6
  },
  {
   "metadata": {
    "ExecuteTime": {
     "end_time": "2025-08-27T19:53:50.460979Z",
     "start_time": "2025-08-27T19:53:50.457562Z"
    }
   },
   "cell_type": "code",
   "source": [
    "# Other math operations we can perform with built-in functions\n",
    "\n",
    "# Lowest score of our user's grades\n",
    "print(f\"Lowest score: {min(student_scores)}\")\n",
    "\n",
    "# Sum of all grades\n",
    "print(f\"\\nOverall total score: {sum(student_scores)} / {len(student_scores)*100}\")\n",
    "\n",
    "# Average of the user's grades using the math function used in previous print statement\n",
    "print(f\"\\nCurrent grade: {int((sum(student_scores)/(len(student_scores)*100))*100)} / 100\")"
   ],
   "id": "38899cab961cb117",
   "outputs": [
    {
     "name": "stdout",
     "output_type": "stream",
     "text": [
      "Lowest score: 18\n",
      "\n",
      "Overall total score: 383 / 800\n",
      "\n",
      "Current grade: 47 / 100\n"
     ]
    }
   ],
   "execution_count": 7
  },
  {
   "metadata": {},
   "cell_type": "markdown",
   "source": [
    "### Using the range function in loops\n",
    "\n",
    "We can use the range() function to count within a range of integers EXCLUDING the last number."
   ],
   "id": "da310234fbdd3b45"
  },
  {
   "metadata": {
    "ExecuteTime": {
     "end_time": "2025-08-28T13:40:51.592497Z",
     "start_time": "2025-08-28T13:40:51.589950Z"
    }
   },
   "cell_type": "code",
   "source": [
    "# This will only count 1, and 2 NOT 3\n",
    "for num in range(1,3):\n",
    "    print(f\"Iteration: {num}\")"
   ],
   "id": "64fec18cb64d0d0e",
   "outputs": [
    {
     "name": "stdout",
     "output_type": "stream",
     "text": [
      "Iteration: 1\n",
      "Iteration: 2\n"
     ]
    }
   ],
   "execution_count": 18
  },
  {
   "metadata": {
    "ExecuteTime": {
     "end_time": "2025-08-28T13:40:40.333946Z",
     "start_time": "2025-08-28T13:40:40.330723Z"
    }
   },
   "cell_type": "code",
   "source": [
    "# This will only count 1, 2, and 3, NOT 4\n",
    "for num in range(1,4):\n",
    "    print(f\"Iteration: {num}\")\n",
    "\n",
    "# We must increment our end integer by 1 if we want it to be included in our range to be counted"
   ],
   "id": "adb1af507ba5fb03",
   "outputs": [
    {
     "name": "stdout",
     "output_type": "stream",
     "text": [
      "Iteration: 1\n",
      "Iteration: 2\n",
      "Iteration: 3\n"
     ]
    }
   ],
   "execution_count": 17
  },
  {
   "metadata": {
    "ExecuteTime": {
     "end_time": "2025-08-28T13:40:20.620765Z",
     "start_time": "2025-08-28T13:40:20.617879Z"
    }
   },
   "cell_type": "code",
   "source": [
    "# Sum all numbers between 1 and 100\n",
    "\n",
    "# Store empty int variable\n",
    "total = 0\n",
    "\n",
    "# For loop for 100 times\n",
    "for num in range(1,101):\n",
    "    # Add the current iteration to total\n",
    "    total += num\n",
    "\n",
    "# Prints the total after for loop adds each number\n",
    "print(f\"Total: {total}\")"
   ],
   "id": "68937975f32b812b",
   "outputs": [
    {
     "name": "stdout",
     "output_type": "stream",
     "text": [
      "Total: 5050\n"
     ]
    }
   ],
   "execution_count": 16
  },
  {
   "metadata": {
    "ExecuteTime": {
     "end_time": "2025-08-28T15:47:51.512928Z",
     "start_time": "2025-08-28T15:47:51.510011Z"
    }
   },
   "cell_type": "code",
   "source": [
    "# Beyond our current learning, I know we can also use range to specify how many integers to skip\n",
    "\n",
    "# Starts at 3, ends at 12, only performs loop execution every 3rd iteration.\n",
    "for num in range(3,13,3):\n",
    "    print(f\"Iteration: {num}\")"
   ],
   "id": "db36adffffb92705",
   "outputs": [
    {
     "name": "stdout",
     "output_type": "stream",
     "text": [
      "Iteration: 3\n",
      "Iteration: 6\n",
      "Iteration: 9\n",
      "Iteration: 12\n"
     ]
    }
   ],
   "execution_count": 22
  },
  {
   "metadata": {},
   "cell_type": "markdown",
   "source": [
    "# CodingExcercise #6: FizzBuzz\n",
    "Program that counts between 1 to 100 but for every integer that is divisible by 3 states \"Fizz\", divisble by 5 \"Buzz\", and both \"FizzBuzz\"."
   ],
   "id": "38a462ae31c1237a"
  },
  {
   "metadata": {
    "ExecuteTime": {
     "end_time": "2025-08-28T16:09:52.342742Z",
     "start_time": "2025-08-28T16:09:52.338709Z"
    }
   },
   "cell_type": "code",
   "source": [
    "# Count between for 1 to 100\n",
    "for num in range(1,101):\n",
    "\n",
    "    # If divisible by 5 AND 3\n",
    "    if num % 3 == 0 and num % 5 == 0:\n",
    "        print(f\"FizzBuzz\")\n",
    "\n",
    "    # If diviisble only by 3\n",
    "    elif num % 3 == 0:\n",
    "        print(f\"Fizz\")\n",
    "\n",
    "    # If divisble by 5\n",
    "    elif num % 5 == 0:\n",
    "        print(f\"Buzz\")\n",
    "\n",
    "    # If not divisible by 3 nor 5, print the number of the current range iteration\n",
    "    else:\n",
    "        print(num)"
   ],
   "id": "74468725b47ed15e",
   "outputs": [
    {
     "name": "stdout",
     "output_type": "stream",
     "text": [
      "1\n",
      "2\n",
      "Fizz\n",
      "4\n",
      "Buzz\n",
      "Fizz\n",
      "7\n",
      "8\n",
      "Fizz\n",
      "Buzz\n",
      "11\n",
      "Fizz\n",
      "13\n",
      "14\n",
      "FizzBuzz\n",
      "16\n",
      "17\n",
      "Fizz\n",
      "19\n",
      "Buzz\n",
      "Fizz\n",
      "22\n",
      "23\n",
      "Fizz\n",
      "Buzz\n",
      "26\n",
      "Fizz\n",
      "28\n",
      "29\n",
      "FizzBuzz\n",
      "31\n",
      "32\n",
      "Fizz\n",
      "34\n",
      "Buzz\n",
      "Fizz\n",
      "37\n",
      "38\n",
      "Fizz\n",
      "Buzz\n",
      "41\n",
      "Fizz\n",
      "43\n",
      "44\n",
      "FizzBuzz\n",
      "46\n",
      "47\n",
      "Fizz\n",
      "49\n",
      "Buzz\n",
      "Fizz\n",
      "52\n",
      "53\n",
      "Fizz\n",
      "Buzz\n",
      "56\n",
      "Fizz\n",
      "58\n",
      "59\n",
      "FizzBuzz\n",
      "61\n",
      "62\n",
      "Fizz\n",
      "64\n",
      "Buzz\n",
      "Fizz\n",
      "67\n",
      "68\n",
      "Fizz\n",
      "Buzz\n",
      "71\n",
      "Fizz\n",
      "73\n",
      "74\n",
      "FizzBuzz\n",
      "76\n",
      "77\n",
      "Fizz\n",
      "79\n",
      "Buzz\n",
      "Fizz\n",
      "82\n",
      "83\n",
      "Fizz\n",
      "Buzz\n",
      "86\n",
      "Fizz\n",
      "88\n",
      "89\n",
      "FizzBuzz\n",
      "91\n",
      "92\n",
      "Fizz\n",
      "94\n",
      "Buzz\n",
      "Fizz\n",
      "97\n",
      "98\n",
      "Fizz\n",
      "Buzz\n"
     ]
    }
   ],
   "execution_count": 25
  }
 ],
 "metadata": {
  "kernelspec": {
   "display_name": "Python 3",
   "language": "python",
   "name": "python3"
  },
  "language_info": {
   "codemirror_mode": {
    "name": "ipython",
    "version": 2
   },
   "file_extension": ".py",
   "mimetype": "text/x-python",
   "name": "python",
   "nbconvert_exporter": "python",
   "pygments_lexer": "ipython2",
   "version": "2.7.6"
  }
 },
 "nbformat": 4,
 "nbformat_minor": 5
}
