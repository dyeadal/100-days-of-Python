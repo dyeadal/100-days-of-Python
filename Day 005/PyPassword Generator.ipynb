{
 "cells": [
  {
   "metadata": {},
   "cell_type": "markdown",
   "source": [
    "# PyPassword Generator\n",
    "\n",
    "1) Prompt user how many characters long their new password should be\n",
    "2) How many symbols\n",
    "3) How many numbers"
   ],
   "id": "7c9a1464c1669f01"
  },
  {
   "metadata": {
    "ExecuteTime": {
     "end_time": "2025-08-28T21:01:44.807896Z",
     "start_time": "2025-08-28T21:01:36.457533Z"
    }
   },
   "cell_type": "code",
   "source": [
    "# Dictionaries to store characters to be used in password generator\n",
    "alpha = ['a','b','c','d','e','f','g','h','i','j','k','l','m','n','o','p','q','r','s','t','u','v','w','x','y','z',\n",
    "         'A','B','C','D','E','F','G','H','I','J','K','L','M','N','O','P','Q','R','S','T','U','V','W','X','Y','Z']\n",
    "special = ['!','@','*','+','#','^','(',')','$']\n",
    "numbers = ['0', '1', '2', '3', '4', '5', '6', '7', '8', '9']\n",
    "\n",
    "print(f\"\\nPyPassword Generator by Dyeadal\\n\")\n",
    "\n",
    "# Ask user input for password preferences\n",
    "length = int(input(\"How long would you like your password to be?\\nCharacters: \"))\n",
    "q_special = int(input(\"\\nHow many symbols to include?\\nSpecial characters: \"))\n",
    "q_number = int(input(\"\\nHow many numbers to include?\\nNumbers: \"))\n",
    "\n",
    "print(f\"Password length:                     {length}\")\n",
    "print(f\"Quantity of special characters:      {q_special}\")\n",
    "print(f\"Quantity of number characters:       {q_number}\\n\")\n"
   ],
   "id": "6c615d15c1c9085d",
   "outputs": [
    {
     "name": "stdout",
     "output_type": "stream",
     "text": [
      "\n",
      "PyPassword Generator by Dyeadal\n",
      "\n",
      "Password length:                     16\n",
      "Quantity of special characters:      3\n",
      "Quantity of number characters:       3\n"
     ]
    }
   ],
   "execution_count": 62
  },
  {
   "metadata": {
    "ExecuteTime": {
     "end_time": "2025-08-28T21:20:47.538056Z",
     "start_time": "2025-08-28T21:20:47.532153Z"
    }
   },
   "cell_type": "code",
   "source": [
    "# Import random library\n",
    "import random\n",
    "\n",
    "# Create a new dictionary to store our characters\n",
    "password = []\n",
    "\n",
    "# Range for quantity of special characters chosen\n",
    "for i in range(q_special):\n",
    "    # Shuffles number dictionary EVERY iteration\n",
    "    random.shuffle(special)\n",
    "    # Appends random number from shuffled number dictionary\n",
    "    password.append(random.choice(special))\n",
    "\n",
    "# Prints chosen special characters\n",
    "print(f\"Special character(s) chosen: {password}\")\n",
    "\n",
    "# Range for quantity of numbers chosen\n",
    "for i in range(q_number):\n",
    "    # Shuffles number dictionary EVERY iteration\n",
    "    random.shuffle(numbers)\n",
    "    # Appends random number from shuffled number dictionary\n",
    "    password.append(random.choice(numbers))\n",
    "\n",
    "print(f\"Number character(s) chosen: {password[q_special:]}\")\n",
    "\n",
    "# Range for remaining character spaces left\n",
    "for i in range(length-q_number-q_special):\n",
    "    # Shuffles alpha dictionary EVERY iteration\n",
    "    random.shuffle(alpha)\n",
    "    # Appends random character in alpha dictionary into password list\n",
    "    password.append(random.choice(alpha))\n",
    "print(f\"Alphabetical character(s) chosen: {password[(q_special+q_number):]}\\n\")\n",
    "\n",
    "# Print all characters\n",
    "print(f\"Total characters chosen: {password}\\n\")\n",
    "\n",
    "# Shuffle password list\n",
    "random.shuffle(password)\n",
    "print(f\"{password}\")\n",
    "\n",
    "strpass = \"\"\n",
    "\n",
    "for i in range(len(password)):\n",
    "    strpass = strpass + password[i]\n",
    "\n",
    "print(f\"\\n\\nPassword:   {strpass}\")"
   ],
   "id": "44b4d1a25c6f97eb",
   "outputs": [
    {
     "name": "stdout",
     "output_type": "stream",
     "text": [
      "Special character(s) chosen: ['*', '(', '#']\n",
      "Number character(s) chosen: ['9', '2', '9']\n",
      "Alphabetical character(s) chosen: ['d', 'W', 'l', 'b', 'M', 'H', 'e', 'K', 's', 'q']\n",
      "\n",
      "Total characters chosen: ['*', '(', '#', '9', '2', '9', 'd', 'W', 'l', 'b', 'M', 'H', 'e', 'K', 's', 'q']\n",
      "\n",
      "['l', 'b', 's', 'q', '9', 'M', '(', 'H', '#', '9', '*', 'K', 'W', 'e', '2', 'd']\n",
      "\n",
      "\n",
      "Password:   lbsq9M(H#9*KWe2d\n"
     ]
    }
   ],
   "execution_count": 67
  },
  {
   "metadata": {
    "ExecuteTime": {
     "end_time": "2025-08-29T14:09:38.152056Z",
     "start_time": "2025-08-29T14:09:38.138166Z"
    }
   },
   "cell_type": "code",
   "source": [
    "# Set up a FREE random.org account to use atmospheric derived randomness\n",
    "# Developer API access is free, 1,000 requests/daily\n",
    "\n",
    "# Libraries to load the .env file which contains your secret API key\n",
    "import os\n",
    "from dotenv import load_dotenv as loadenv\n",
    "\n",
    "# What are .env files for?\n",
    "# https://www.geeksforgeeks.org/python/how-to-create-and-use-env-files-in-python/\n",
    "\n",
    "os.getenv(\"RANDOM_API\")\n"
   ],
   "id": "a2fb28c29fa858f0",
   "outputs": [],
   "execution_count": 4
  }
 ],
 "metadata": {
  "kernelspec": {
   "display_name": "Python 3",
   "language": "python",
   "name": "python3"
  },
  "language_info": {
   "codemirror_mode": {
    "name": "ipython",
    "version": 2
   },
   "file_extension": ".py",
   "mimetype": "text/x-python",
   "name": "python",
   "nbconvert_exporter": "python",
   "pygments_lexer": "ipython2",
   "version": "2.7.6"
  }
 },
 "nbformat": 4,
 "nbformat_minor": 5
}
